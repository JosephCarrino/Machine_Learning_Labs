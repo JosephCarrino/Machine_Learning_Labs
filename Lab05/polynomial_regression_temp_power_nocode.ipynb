{
 "cells": [
  {
   "cell_type": "markdown",
   "metadata": {},
   "source": [
    "# Polynomial regression \n",
    "\n",
    "The example belows uses a temperature-energy dataset in order to illustrate how to perform a non linear regression.\n",
    "\n",
    "Workflow:\n",
    "1. Preparation\n",
    "    - Extract the dataset from the _power_demand_vs_temperature.csv_ \n",
    "    - Explore the dataset and check for missing values\n",
    "    - Plot the distribution\n",
    "    - Divide the dataset into train and test \n",
    "    - Create an evaluation function\n",
    "2. First experiment\n",
    "    - Create a linear model \n",
    "    - Train the model on X_train and y_train\n",
    "    - Evaluate the model on X_test and y_test\n",
    "    - Visualize the prediction of the model\n",
    "3. Second experiment\n",
    "    - Create a polynomial regression model with degree 2\n",
    "    - Train the model on X_train and y_train\n",
    "    - Evaluate the model on X_test and y_test\n",
    "    - Visualize the prediction of the model\n",
    "4. Third experiment\n",
    "    - repeat the steps done in the second experiment but with degree 3\n",
    "5. Third experiment\n",
    "    - repeat the steps done in the second experiment but with degree 4\n",
    "6. Compare the evaluation of each model\n"
   ]
  },
  {
   "cell_type": "code",
   "execution_count": 112,
   "metadata": {},
   "outputs": [],
   "source": [
    "# Code source: Filippo Orazi \n",
    "# License: BSD 3 clause\n",
    "\n",
    "import matplotlib.pyplot as plt\n",
    "import numpy as np\n",
    "import scipy.stats\n",
    "from sklearn import datasets, linear_model\n",
    "from sklearn.metrics import mean_squared_error, r2_score\n",
    "import pandas as pd\n",
    "from sklearn.preprocessing import PolynomialFeatures\n",
    "from sklearn.linear_model import LinearRegression\n",
    "from sklearn.model_selection import train_test_split\n",
    "from sklearn.pipeline import Pipeline\n",
    "\n",
    "random_state = 42 # this will be used to guarantee the repeatability of the experiment"
   ]
  },
  {
   "cell_type": "markdown",
   "metadata": {},
   "source": [
    "## Dataset preparation"
   ]
  },
  {
   "cell_type": "markdown",
   "metadata": {},
   "source": [
    "### Load the dataset from a `.csv` file\n",
    "This cell allows full compatibility between execution in Google Colab and in local\n"
   ]
  },
  {
   "cell_type": "code",
   "execution_count": 113,
   "metadata": {},
   "outputs": [],
   "source": [
    "try:\n",
    "  import google.colab.files\n",
    "  IN_COLAB = True\n",
    "except:\n",
    "  IN_COLAB = False\n",
    "# from google.colab import files\n",
    "if IN_COLAB:\n",
    "    uploaded = files.upload()\n"
   ]
  },
  {
   "cell_type": "markdown",
   "metadata": {},
   "source": [
    "The file must be available in the same directory, or uploaded in the Colab environment in the execution of the previous cell\n"
   ]
  },
  {
   "cell_type": "markdown",
   "metadata": {},
   "source": [
    "Set the date column as index"
   ]
  },
  {
   "cell_type": "code",
   "execution_count": 114,
   "metadata": {},
   "outputs": [
    {
     "data": {
      "text/html": [
       "<div>\n",
       "<style scoped>\n",
       "    .dataframe tbody tr th:only-of-type {\n",
       "        vertical-align: middle;\n",
       "    }\n",
       "\n",
       "    .dataframe tbody tr th {\n",
       "        vertical-align: top;\n",
       "    }\n",
       "\n",
       "    .dataframe thead th {\n",
       "        text-align: right;\n",
       "    }\n",
       "</style>\n",
       "<table border=\"1\" class=\"dataframe\">\n",
       "  <thead>\n",
       "    <tr style=\"text-align: right;\">\n",
       "      <th></th>\n",
       "      <th>demand</th>\n",
       "      <th>temp</th>\n",
       "    </tr>\n",
       "    <tr>\n",
       "      <th>date</th>\n",
       "      <th></th>\n",
       "      <th></th>\n",
       "    </tr>\n",
       "  </thead>\n",
       "  <tbody>\n",
       "    <tr>\n",
       "      <th>2015-01-01</th>\n",
       "      <td>1.736065</td>\n",
       "      <td>1.7</td>\n",
       "    </tr>\n",
       "    <tr>\n",
       "      <th>2015-01-02</th>\n",
       "      <td>1.831672</td>\n",
       "      <td>2.2</td>\n",
       "    </tr>\n",
       "    <tr>\n",
       "      <th>2015-01-03</th>\n",
       "      <td>1.714934</td>\n",
       "      <td>14.4</td>\n",
       "    </tr>\n",
       "    <tr>\n",
       "      <th>2015-01-04</th>\n",
       "      <td>1.628577</td>\n",
       "      <td>15.6</td>\n",
       "    </tr>\n",
       "    <tr>\n",
       "      <th>2015-01-05</th>\n",
       "      <td>2.045394</td>\n",
       "      <td>0.0</td>\n",
       "    </tr>\n",
       "  </tbody>\n",
       "</table>\n",
       "</div>"
      ],
      "text/plain": [
       "              demand  temp\n",
       "date                      \n",
       "2015-01-01  1.736065   1.7\n",
       "2015-01-02  1.831672   2.2\n",
       "2015-01-03  1.714934  14.4\n",
       "2015-01-04  1.628577  15.6\n",
       "2015-01-05  2.045394   0.0"
      ]
     },
     "execution_count": 114,
     "metadata": {},
     "output_type": "execute_result"
    }
   ],
   "source": [
    "df = pd.read_csv('./power_demand_vs_temperature.csv')\n",
    "df.index = df[\"date\"]\n",
    "df = df.drop(\"date\", axis=1)\n",
    "df.head()"
   ]
  },
  {
   "cell_type": "markdown",
   "metadata": {},
   "source": [
    "### Explore the dataset and check for missing values\n"
   ]
  },
  {
   "cell_type": "code",
   "execution_count": 115,
   "metadata": {},
   "outputs": [
    {
     "data": {
      "text/html": [
       "<div>\n",
       "<style scoped>\n",
       "    .dataframe tbody tr th:only-of-type {\n",
       "        vertical-align: middle;\n",
       "    }\n",
       "\n",
       "    .dataframe tbody tr th {\n",
       "        vertical-align: top;\n",
       "    }\n",
       "\n",
       "    .dataframe thead th {\n",
       "        text-align: right;\n",
       "    }\n",
       "</style>\n",
       "<table border=\"1\" class=\"dataframe\">\n",
       "  <thead>\n",
       "    <tr style=\"text-align: right;\">\n",
       "      <th></th>\n",
       "      <th>demand</th>\n",
       "      <th>temp</th>\n",
       "    </tr>\n",
       "  </thead>\n",
       "  <tbody>\n",
       "    <tr>\n",
       "      <th>count</th>\n",
       "      <td>1096.000000</td>\n",
       "      <td>1096.000000</td>\n",
       "    </tr>\n",
       "    <tr>\n",
       "      <th>mean</th>\n",
       "      <td>1.831796</td>\n",
       "      <td>16.927737</td>\n",
       "    </tr>\n",
       "    <tr>\n",
       "      <th>std</th>\n",
       "      <td>0.329434</td>\n",
       "      <td>10.791581</td>\n",
       "    </tr>\n",
       "    <tr>\n",
       "      <th>min</th>\n",
       "      <td>1.316033</td>\n",
       "      <td>-15.000000</td>\n",
       "    </tr>\n",
       "    <tr>\n",
       "      <th>25%</th>\n",
       "      <td>1.581654</td>\n",
       "      <td>8.900000</td>\n",
       "    </tr>\n",
       "    <tr>\n",
       "      <th>50%</th>\n",
       "      <td>1.731479</td>\n",
       "      <td>18.900000</td>\n",
       "    </tr>\n",
       "    <tr>\n",
       "      <th>75%</th>\n",
       "      <td>2.024869</td>\n",
       "      <td>26.100000</td>\n",
       "    </tr>\n",
       "    <tr>\n",
       "      <th>max</th>\n",
       "      <td>2.804025</td>\n",
       "      <td>33.900000</td>\n",
       "    </tr>\n",
       "  </tbody>\n",
       "</table>\n",
       "</div>"
      ],
      "text/plain": [
       "            demand         temp\n",
       "count  1096.000000  1096.000000\n",
       "mean      1.831796    16.927737\n",
       "std       0.329434    10.791581\n",
       "min       1.316033   -15.000000\n",
       "25%       1.581654     8.900000\n",
       "50%       1.731479    18.900000\n",
       "75%       2.024869    26.100000\n",
       "max       2.804025    33.900000"
      ]
     },
     "execution_count": 115,
     "metadata": {},
     "output_type": "execute_result"
    }
   ],
   "source": [
    "df.describe()"
   ]
  },
  {
   "cell_type": "code",
   "execution_count": 116,
   "metadata": {},
   "outputs": [
    {
     "name": "stdout",
     "output_type": "stream",
     "text": [
      "The dataframe has 0 invalid rows\n"
     ]
    }
   ],
   "source": [
    "print(\"The dataframe has \" + str(df.isnull().sum().sum()) + \" invalid rows\")"
   ]
  },
  {
   "cell_type": "markdown",
   "metadata": {},
   "source": [
    "### Create X and y "
   ]
  },
  {
   "cell_type": "code",
   "execution_count": 117,
   "metadata": {},
   "outputs": [
    {
     "name": "stdout",
     "output_type": "stream",
     "text": [
      "X has shape(1096, 1)\n",
      "Y has shape(1096,)\n"
     ]
    }
   ],
   "source": [
    "X = df.drop(\"demand\", axis=1)\n",
    "Y = df[\"demand\"]\n",
    "print(\"X has shape\" + str(X.shape))\n",
    "print(\"Y has shape\" + str(Y.shape))"
   ]
  },
  {
   "cell_type": "markdown",
   "metadata": {},
   "source": [
    "### Plot the distribution\n",
    "\n"
   ]
  },
  {
   "cell_type": "code",
   "execution_count": 118,
   "metadata": {},
   "outputs": [
    {
     "data": {
      "text/plain": [
       "[<matplotlib.lines.Line2D at 0x23858aaa460>]"
      ]
     },
     "execution_count": 118,
     "metadata": {},
     "output_type": "execute_result"
    },
    {
     "data": {
      "image/png": "[encoded data removed]",
      "text/plain": [
       "<Figure size 432x288 with 1 Axes>"
      ]
     },
     "metadata": {
      "needs_background": "light"
     },
     "output_type": "display_data"
    }
   ],
   "source": [
    "plt.xlabel(\"Temperature\")\n",
    "plt.ylabel(\"Demand\")\n",
    "plt.plot(X, Y, 'o')"
   ]
  },
  {
   "cell_type": "markdown",
   "metadata": {},
   "source": [
    "### Divide the dataset in train and test splits"
   ]
  },
  {
   "cell_type": "code",
   "execution_count": 119,
   "metadata": {},
   "outputs": [
    {
     "name": "stdout",
     "output_type": "stream",
     "text": [
      "Training set and test set have 822 and 274 elements respectively\n"
     ]
    }
   ],
   "source": [
    "Xtrain, Xtest, Ytrain, Ytest = train_test_split(X, Y, random_state=random_state)\n",
    "print(f\"Training set and test set have {Xtrain.shape[0]} and {Xtest.shape[0]} elements respectively\")"
   ]
  },
  {
   "cell_type": "markdown",
   "metadata": {},
   "source": [
    "### Create an evaluation function to compute, print and return the metrics: rmse r2 f-statistic and p-value"
   ]
  },
  {
   "cell_type": "code",
   "execution_count": 120,
   "metadata": {},
   "outputs": [],
   "source": [
    "# Computation of F-statistic and p-value for the regression\n",
    "# http://facweb.cs.depaul.edu/sjost/csc423/documents/f-test-reg.htm\n",
    "\n",
    "# n is number of observations\n",
    "# p is number of regression parameters\n",
    "def SSM(y_true, y_pred):\n",
    "    to_ret = 0\n",
    "    y_mean = np.mean(y_true)\n",
    "    for i in range(len(y_true)):\n",
    "        to_ret+=(y_mean - y_pred[i])**2\n",
    "    return to_ret\n",
    "def SST(y_true, y_pred):\n",
    "    to_ret = 0\n",
    "    y_mean = np.mean(y_true)\n",
    "    for i in range(len(y_true)):\n",
    "        to_ret+=(y_pred[i] - y_mean)**2\n",
    "    return to_ret\n",
    "\n",
    "def SSE(y_true, y_pred):\n",
    "    to_ret = 0\n",
    "    for i in range(len(y_true)):\n",
    "        to_ret+=(y_true[i] - y_pred[i])**2\n",
    "    return to_ret\n",
    "\n",
    "def DFM(p):\n",
    "    return p-1\n",
    "\n",
    "def DFE(n, p):\n",
    "    return n-p\n",
    "\n",
    "def DFT(n):\n",
    "    return n-1\n",
    "\n",
    "def MSM(SSM, DFM):\n",
    "    return SSM / DFM\n",
    "\n",
    "def MSE(SSE, DFE):\n",
    "    return SSE / DFE\n",
    "\n",
    "def MST (SST, DFT):\n",
    "    return SST / DFT\n",
    "\n",
    "f_table = [{\"Confidence Interval\": [0, 0.900], \"F-value\": 1.89},\n",
    "           {\"Confidence Interval\": [0, 0.950], \"F-value\": 2.28},\n",
    "           {\"Confidence Interval\": [0, 0.975], \"F-value\": 2.68},\n",
    "           {\"Confidence Interval\": [0, 0.990], \"F-value\": 2.22},\n",
    "           {\"Confidence Interval\": [0, 0.999], \"F-value\": 4.71}]\n",
    "\n",
    "levels = [0.100, 0.050, 0.025, 0.010, 0.001]\n",
    "\n",
    "def my_evaluate(n, p, y_pred, y_true):\n",
    "    F = MSM(SSM(y_true, y_pred), DFM(p)) / MSE(SSE(y_true, y_pred), DFE(n, p))\n",
    "    level = DFE(n,p)/DFM(p)\n",
    "    distances = [abs(level - l) for l in levels]\n",
    "    f_table_i = np.argmin(distances)\n",
    "    my_values = f_table[f_table_i]\n",
    "    # interval = my_values[\"F-value\"]\n",
    "    r2 = SSM(y_true, y_pred) / SST(y_true, y_pred)\n",
    "    print(\"Mean squared error: \\t\" + str(MSE(SSE(y_true, y_pred), DFE(n, p))))\n",
    "    print(\"r2 score: \\t\\t\" + str(r2_score(y_true, y_pred)))\n",
    "    print(\"f-statistic: \\t\\t\" + str(F))\n",
    "    return MSE(SSE(y_true, y_pred), DFE(n, p)), r2_score(y_true, y_pred), F"
   ]
  },
  {
   "cell_type": "markdown",
   "metadata": {},
   "source": [
    "## First experiment\n",
    "Create a linear model \n",
    "\n",
    "Train the model on X_train and y_train \n",
    "\n",
    "Evaluate the model on X_test and y_test\n"
   ]
  },
  {
   "cell_type": "code",
   "execution_count": 121,
   "metadata": {},
   "outputs": [
    {
     "name": "stdout",
     "output_type": "stream",
     "text": [
      "Mean squared error: \t0.10047643370714782\n",
      "r2 score: \t\t0.16497160632995378\n",
      "f-statistic: \t\t42.936354203555396\n"
     ]
    }
   ],
   "source": [
    "model = LinearRegression()\n",
    "model.fit(Xtrain, Ytrain)\n",
    "y_pred = model.predict(Xtest)\n",
    "vals00, vals01, vals02 = my_evaluate(Xtest.shape[0], Xtest.shape[1]+1, y_pred, Ytest)"
   ]
  },
  {
   "cell_type": "markdown",
   "metadata": {},
   "source": [
    "#### Visualize the prediction of the model "
   ]
  },
  {
   "cell_type": "code",
   "execution_count": 122,
   "metadata": {},
   "outputs": [
    {
     "data": {
      "text/plain": [
       "<matplotlib.legend.Legend at 0x238589ae970>"
      ]
     },
     "execution_count": 122,
     "metadata": {},
     "output_type": "execute_result"
    },
    {
     "data": {
      "image/png": "[encoded data removed]",
      "text/plain": [
       "<Figure size 432x288 with 1 Axes>"
      ]
     },
     "metadata": {
      "needs_background": "light"
     },
     "output_type": "display_data"
    }
   ],
   "source": [
    "plt.xlabel(\"Temperature\")\n",
    "plt.ylabel(\"Demand\")\n",
    "plt.plot(X, Y, 'o')\n",
    "plt.plot(Xtest, y_pred, label=\"lin\", color=\"red\")\n",
    "plt.legend(loc=\"upper left\")"
   ]
  },
  {
   "cell_type": "markdown",
   "metadata": {},
   "source": [
    "## Second experiment - Polynomial regression\n",
    "We can clearly see that the linear regression model cannot really approximate the data distribution.\n",
    "\n",
    "We can now try with a non linear regression model:\n",
    "1. Use the sklearn fucntion _PolynomialFeature_ to create a new array of features. Set _degree=2_ and _include_bias=False_\n",
    "2. Train a Linear regression model with the new features\n",
    "3. Evaluate the model \n",
    "4. Visualize the predicted values of the model"
   ]
  },
  {
   "cell_type": "markdown",
   "metadata": {},
   "source": [
    "#### Polynomial degree = 2"
   ]
  },
  {
   "cell_type": "code",
   "execution_count": 123,
   "metadata": {},
   "outputs": [],
   "source": [
    "features = PolynomialFeatures(degree = 2, include_bias = False)"
   ]
  },
  {
   "cell_type": "code",
   "execution_count": 124,
   "metadata": {},
   "outputs": [
    {
     "name": "stdout",
     "output_type": "stream",
     "text": [
      "Mean squared error: \t0.0105525523550657\n",
      "r2 score: \t\t0.7356133663568162\n",
      "f-statistic: \t\t2187.822635223873\n"
     ]
    }
   ],
   "source": [
    "model_2 = LinearRegression()\n",
    "pipeline = Pipeline(steps=[('t', features), ('m', model_2)])\n",
    "pipeline.fit(Xtrain, Ytrain)\n",
    "y_pred_2 = pipeline.predict(Xtest)\n",
    "vals10, vals11, vals12 = my_evaluate(Xtrain.shape[0], Xtrain.shape[1] + 1, y_pred_2, Ytest)"
   ]
  },
  {
   "cell_type": "code",
   "execution_count": 125,
   "metadata": {},
   "outputs": [
    {
     "data": {
      "text/plain": [
       "<matplotlib.legend.Legend at 0x238516cd280>"
      ]
     },
     "execution_count": 125,
     "metadata": {},
     "output_type": "execute_result"
    },
    {
     "data": {
      "image/png": "[encoded data removed]",
      "text/plain": [
       "<Figure size 432x288 with 1 Axes>"
      ]
     },
     "metadata": {
      "needs_background": "light"
     },
     "output_type": "display_data"
    }
   ],
   "source": [
    "plt.xlabel(\"Temperature\")\n",
    "plt.ylabel(\"Demand\")\n",
    "plt.plot(X, Y, 'o')\n",
    "plt.plot(Xtest, y_pred_2, 'o', label=\"poly\", color=\"red\")\n",
    "plt.legend(loc=\"lower left\")"
   ]
  },
  {
   "cell_type": "markdown",
   "metadata": {},
   "source": [
    "## Third experiment"
   ]
  },
  {
   "cell_type": "markdown",
   "metadata": {},
   "source": [
    "#### Polynomial degree = 3"
   ]
  },
  {
   "cell_type": "code",
   "execution_count": 126,
   "metadata": {},
   "outputs": [],
   "source": [
    "features = PolynomialFeatures(degree = 3, include_bias = False)"
   ]
  },
  {
   "cell_type": "code",
   "execution_count": 127,
   "metadata": {},
   "outputs": [
    {
     "name": "stdout",
     "output_type": "stream",
     "text": [
      "Mean squared error: \t0.006682531835192724\n",
      "r2 score: \t\t0.83257395588548\n",
      "f-statistic: \t\t4255.404031253318\n"
     ]
    }
   ],
   "source": [
    "model_3 = LinearRegression()\n",
    "pipeline = Pipeline(steps=[('t', features), ('m', model_3)])\n",
    "pipeline.fit(Xtrain, Ytrain)\n",
    "y_pred_3 = pipeline.predict(Xtest)\n",
    "vals20, vals21, vals22 = my_evaluate(Xtrain.shape[0], Xtrain.shape[1] + 1, y_pred_3, Ytest)"
   ]
  },
  {
   "cell_type": "code",
   "execution_count": 128,
   "metadata": {},
   "outputs": [
    {
     "data": {
      "text/plain": [
       "<matplotlib.legend.Legend at 0x23858bfd0d0>"
      ]
     },
     "execution_count": 128,
     "metadata": {},
     "output_type": "execute_result"
    },
    {
     "data": {
      "image/png": "[encoded data removed]",
      "text/plain": [
       "<Figure size 432x288 with 1 Axes>"
      ]
     },
     "metadata": {
      "needs_background": "light"
     },
     "output_type": "display_data"
    }
   ],
   "source": [
    "plt.xlabel(\"Temperature\")\n",
    "plt.ylabel(\"Demand\")\n",
    "plt.plot(X, Y, 'o')\n",
    "plt.plot(Xtest, y_pred_3, 'o', label=\"poly\", color=\"red\")\n",
    "plt.legend(loc=\"lower left\")"
   ]
  },
  {
   "cell_type": "markdown",
   "metadata": {},
   "source": [
    "## Fourth experiment\n",
    "### Polynomial degree = 4"
   ]
  },
  {
   "cell_type": "code",
   "execution_count": 129,
   "metadata": {},
   "outputs": [],
   "source": [
    "features = PolynomialFeatures(degree = 4, include_bias = False)"
   ]
  },
  {
   "cell_type": "code",
   "execution_count": 130,
   "metadata": {},
   "outputs": [
    {
     "name": "stdout",
     "output_type": "stream",
     "text": [
      "Mean squared error: \t0.006581262402840308\n",
      "r2 score: \t\t0.8351111889083287\n",
      "f-statistic: \t\t4423.244586521021\n"
     ]
    }
   ],
   "source": [
    "model_4 = LinearRegression()\n",
    "pipeline = Pipeline(steps=[('t', features), ('m', model_4)])\n",
    "pipeline.fit(Xtrain, Ytrain)\n",
    "y_pred_4 = pipeline.predict(Xtest)\n",
    "vals30, vals31, vals32 = my_evaluate(Xtrain.shape[0], Xtrain.shape[1] + 1, y_pred_4, Ytest)"
   ]
  },
  {
   "cell_type": "code",
   "execution_count": 134,
   "metadata": {},
   "outputs": [
    {
     "data": {
      "text/plain": [
       "<matplotlib.legend.Legend at 0x238571a7100>"
      ]
     },
     "execution_count": 134,
     "metadata": {},
     "output_type": "execute_result"
    },
    {
     "data": {
      "image/png": "[encoded data removed]",
      "text/plain": [
       "<Figure size 432x288 with 1 Axes>"
      ]
     },
     "metadata": {
      "needs_background": "light"
     },
     "output_type": "display_data"
    }
   ],
   "source": [
    "plt.xlabel(\"Temperature\")\n",
    "plt.ylabel(\"Demand\")\n",
    "plt.plot(X, Y, 'o')\n",
    "plt.plot(Xtest, y_pred_4, 'o', label=\"poly\", color=\"red\")\n",
    "plt.legend(loc=\"lower left\")"
   ]
  },
  {
   "cell_type": "markdown",
   "metadata": {},
   "source": [
    "## Compare the performance of the four models"
   ]
  },
  {
   "cell_type": "code",
   "execution_count": 155,
   "metadata": {},
   "outputs": [
    {
     "data": {
      "text/html": [
       "<div>\n",
       "<style scoped>\n",
       "    .dataframe tbody tr th:only-of-type {\n",
       "        vertical-align: middle;\n",
       "    }\n",
       "\n",
       "    .dataframe tbody tr th {\n",
       "        vertical-align: top;\n",
       "    }\n",
       "\n",
       "    .dataframe thead th {\n",
       "        text-align: right;\n",
       "    }\n",
       "</style>\n",
       "<table border=\"1\" class=\"dataframe\">\n",
       "  <thead>\n",
       "    <tr style=\"text-align: right;\">\n",
       "      <th></th>\n",
       "      <th>linear</th>\n",
       "      <th>polynomial d = 2</th>\n",
       "      <th>polynomial d = 3</th>\n",
       "      <th>polynomial d = 4</th>\n",
       "    </tr>\n",
       "  </thead>\n",
       "  <tbody>\n",
       "    <tr>\n",
       "      <th>rmse</th>\n",
       "      <td>0.100476</td>\n",
       "      <td>0.010553</td>\n",
       "      <td>0.006683</td>\n",
       "      <td>0.006581</td>\n",
       "    </tr>\n",
       "    <tr>\n",
       "      <th>r2</th>\n",
       "      <td>0.164972</td>\n",
       "      <td>0.735613</td>\n",
       "      <td>0.832574</td>\n",
       "      <td>0.835111</td>\n",
       "    </tr>\n",
       "    <tr>\n",
       "      <th>f-statistic</th>\n",
       "      <td>42.936354</td>\n",
       "      <td>2187.822635</td>\n",
       "      <td>4255.404031</td>\n",
       "      <td>4423.244587</td>\n",
       "    </tr>\n",
       "  </tbody>\n",
       "</table>\n",
       "</div>"
      ],
      "text/plain": [
       "                linear  polynomial d = 2  polynomial d = 3  polynomial d = 4\n",
       "rmse          0.100476          0.010553          0.006683          0.006581\n",
       "r2            0.164972          0.735613          0.832574          0.835111\n",
       "f-statistic  42.936354       2187.822635       4255.404031       4423.244587"
      ]
     },
     "execution_count": 155,
     "metadata": {},
     "output_type": "execute_result"
    }
   ],
   "source": [
    "vals_0 = np.array([[vals00, vals01, vals02]]).T\n",
    "vals_1 = np.array([[vals10, vals11, vals12]]).T\n",
    "vals_2 = np.array([[vals20, vals21, vals22]]).T\n",
    "vals_3 = np.array([[vals30, vals31, vals32]]).T\n",
    "\n",
    "compars = pd.DataFrame(np.concatenate((vals_0, vals_1, vals_2, vals_3), axis=1))\n",
    "compars.columns = [\"linear\", \"polynomial d = 2\", \"polynomial d = 3\", \"polynomial d = 4\"]\n",
    "compars.index = [\"rmse\", \"r2\", \"f-statistic\"]\n",
    "compars.head()"
   ]
  },
  {
   "cell_type": "code",
   "execution_count": null,
   "metadata": {},
   "outputs": [],
   "source": []
  }
 ],
 "metadata": {
  "kernelspec": {
   "display_name": "Python 3.9.6 64-bit",
   "language": "python",
   "name": "python3"
  },
  "language_info": {
   "codemirror_mode": {
    "name": "ipython",
    "version": 3
   },
   "file_extension": ".py",
   "mimetype": "text/x-python",
   "name": "python",
   "nbconvert_exporter": "python",
   "pygments_lexer": "ipython3",
   "version": "3.9.6"
  },
  "orig_nbformat": 4,
  "vscode": {
   "interpreter": {
    "hash": "81794d4967e6c3204c66dcd87b604927b115b27c00565d3d43f05ba2f3a2cb0d"
   }
  }
 },
 "nbformat": 4,
 "nbformat_minor": 2
}
